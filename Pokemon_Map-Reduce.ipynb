{
 "cells": [
  {
   "cell_type": "code",
   "execution_count": 52,
   "id": "c180edb7-0746-4ba5-9927-201d0f867b2b",
   "metadata": {},
   "outputs": [],
   "source": [
    "%qtconsole"
   ]
  },
  {
   "cell_type": "markdown",
   "id": "efa7e4df",
   "metadata": {},
   "source": [
    "Our hypothesis is: If two pokemon from different generations' base stats are compared, then the pokemon from the newer generation is statistacally likely to have higher overall base stats."
   ]
  },
  {
   "cell_type": "code",
   "execution_count": 87,
   "id": "665a239d-34b1-455c-b0da-45a2f300334a",
   "metadata": {},
   "outputs": [
    {
     "name": "stdout",
     "output_type": "stream",
     "text": [
      "Overwriting pokemon-stat-comparison.py\n"
     ]
    }
   ],
   "source": [
    "%%file pokemon-stat-comparison.py\n",
    "from mrjob.job import MRJob\n",
    "\n",
    "## Produce a condensed list of unique pokemon until gen 8 and their stats \n",
    "class PokemonStatMapping(MRJob):\n",
    "\n",
    "    ##splits file by line\n",
    "    def mapper(self, _, line):\n",
    "        thelist = line.split(\"\\n\")\n",
    "        for x in thelist:\n",
    "            yield x, 1\n",
    "\n",
    "    ##reduces data to just id/name and stat values.\n",
    "    def reducer(self, key, values):\n",
    "        pokemon = key.split(\",\")\n",
    "        pokemonID = pokemon[0] + \" - \" + pokemon[1] + \" - \" + pokemon[2]\n",
    "        statTotal = 0\n",
    "        lastIndex = len(pokemon) - 1\n",
    "\n",
    "        # use a for loop to sum all stats of each pokemon\n",
    "        for i in range(6):\n",
    "            try:\n",
    "                statTotal += int(pokemon[lastIndex - i])\n",
    "            except ValueError:\n",
    "                pass\n",
    "\n",
    "        # set value equal to all 6 stats, plus a stat total, comma-seperated\n",
    "        pokemonStats = pokemon[lastIndex-5] + \",\" + pokemon[lastIndex-4] + \",\" + pokemon[lastIndex-3] + \",\" + pokemon[lastIndex-2] + \",\" + pokemon[lastIndex-1] + \",\" + pokemon[lastIndex] + \",\" + str(statTotal)\n",
    "        \n",
    "        if pokemonID[0] == '0':\n",
    "            yield pokemonID, pokemonStats\n",
    "        else:\n",
    "            pass\n",
    "\n",
    "\n",
    "if __name__ == '__main__':\n",
    "    PokemonStatMapping.run()"
   ]
  },
  {
   "cell_type": "code",
   "execution_count": 88,
   "id": "4bda9635-ea42-4849-b219-192c7196f29f",
   "metadata": {},
   "outputs": [
    {
     "name": "stderr",
     "output_type": "stream",
     "text": [
      "No configs found; falling back on auto-configuration\n",
      "No configs specified for inline runner\n",
      "Running step 1 of 1...\n",
      "Creating temp directory C:\\Users\\dylan\\AppData\\Local\\Temp\\pokemon-stat-comparison.dylan.20241209.185416.280964\n",
      "job output is in Intermediate_data\n",
      "Removing temp directory C:\\Users\\dylan\\AppData\\Local\\Temp\\pokemon-stat-comparison.dylan.20241209.185416.280964...\n"
     ]
    },
    {
     "name": "stdout",
     "output_type": "stream",
     "text": [
      "Intermediate_data\\part-00000\n",
      "Intermediate_data\\part-00001\n",
      "Intermediate_data\\part-00002\n",
      "Intermediate_data\\part-00003\n",
      "Intermediate_data\\part-00004\n",
      "Intermediate_data\\part-00005\n",
      "Intermediate_data\\part-00006\n",
      "Intermediate_data\\part-00007\n",
      "Intermediate_data\\part-00008\n",
      "Intermediate_data\\part-00009\n",
      "Intermediate_data\\part-00010\n",
      "Intermediate_data\\part-00011\n",
      "Intermediate_data\\part-00012\n",
      "Intermediate_data\\part-00013\n",
      "Intermediate_data\\part-00014\n",
      "Intermediate_data\\part-00015\n",
      "Intermediate_data\\part-00016\n",
      "Intermediate_data\\part-00017\n",
      "Intermediate_data\\part-00018\n",
      "Intermediate_data\\part-00019\n",
      "Intermediate_data\\part-00020\n",
      "Intermediate_data\\part-00021\n",
      "Intermediate_data\\part-00022\n",
      "Intermediate_data\\part-00023\n",
      "        1 file(s) copied.\n"
     ]
    }
   ],
   "source": [
    "# execute the script and store the output in a single intermediary file to be used by the next MRjob\n",
    "# if distributed environment was used, this output would be left as multiple files.\n",
    "\n",
    "!del Intermediate_data\\*.txt\n",
    "!python pokemon-stat-comparison.py ./Pokemon-Datasets/PreProcessed-Datasets/pokemon_swsh_formatted.csv --output-dir=Intermediate_data \n",
    "!copy /b Intermediate_data\\part-* Intermediate_data\\job1_output.txt\n",
    "!del Intermediate_data\\part-*"
   ]
  },
  {
   "cell_type": "code",
   "execution_count": 97,
   "id": "ec598fab",
   "metadata": {},
   "outputs": [
    {
     "name": "stdout",
     "output_type": "stream",
     "text": [
      "Overwriting pokemon-stat-aggregation.py\n"
     ]
    }
   ],
   "source": [
    "%%file pokemon-stat-aggregation.py\n",
    "from mrjob.job import MRJob\n",
    "\n",
    "class PokemonStatAggregation(MRJob):\n",
    "\n",
    "    def mapper(self, _, line):\n",
    "\n",
    "        # Example line: \"0001 - Bulbasaur - grass/poison\" \"45,49,49,65,65,45,318\"\n",
    "        key, value = line.split(\"\\t\")\n",
    "\n",
    "        # remove surrounding quotations from keys and values\n",
    "        key = key.strip('\\\"')\n",
    "        value = value.strip('\\\"')\n",
    "        \n",
    "        # get gen based on pokedex number\n",
    "\n",
    "        pokemon_id = key.split(\" - \")[0]\n",
    "        pokedex = int(pokemon_id)\n",
    "        \n",
    "        if 1 <= pokedex <= 151:\n",
    "            gen = 1\n",
    "        elif 152 <= pokedex <= 251:\n",
    "            gen = 2\n",
    "        elif 252 <= pokedex <= 386:\n",
    "            gen = 3\n",
    "        elif 387 <= pokedex <= 493:\n",
    "            gen = 4\n",
    "        elif 494 <= pokedex <= 649:\n",
    "            gen = 5\n",
    "        elif 650 <= pokedex <= 721:\n",
    "            gen = 6\n",
    "        elif 722 <= pokedex <= 809:\n",
    "            gen = 7\n",
    "        elif 810 <= pokedex <= 898:\n",
    "            gen = 8\n",
    "        else:\n",
    "            return\n",
    "        \n",
    "        # Get stats from the value (format: \"45,49,49,65,65,45,318\")\n",
    "        stats = list(map(int, value.split(\",\")))\n",
    "        \n",
    "        yield gen, stats\n",
    "\n",
    "    def reducer(self, key, values):\n",
    "\n",
    "        totalHp = totalAtt = totalDef = totalSatt = totalSdef = totalSpd = totalStatTotal = 0\n",
    "        count = 0\n",
    "        \n",
    "        # aggregate stats for each generation\n",
    "        for stats in values:\n",
    "            totalHp += stats[0]\n",
    "            totalAtt += stats[1]\n",
    "            totalDef += stats[2]\n",
    "            totalSatt += stats[3]\n",
    "            totalSdef += stats[4]\n",
    "            totalSpd += stats[5]\n",
    "            totalStatTotal += stats[6]\n",
    "            count += 1\n",
    "\n",
    "        # calculate the averages\n",
    "        avgHp = totalHp / count\n",
    "        avgAtt = totalAtt / count\n",
    "        avgDef = totalDef / count\n",
    "        avgSatt = totalSatt / count\n",
    "        avgSdef = totalSdef / count\n",
    "        avgSpd = totalSpd / count\n",
    "        avgStatTotal = totalStatTotal / count\n",
    "\n",
    "        # yield the generation and average stats\n",
    "        yield key, [avgHp, avgAtt, avgDef, avgSatt, avgSdef, avgSpd, avgStatTotal]\n",
    "\n",
    "if __name__ == '__main__':\n",
    "    PokemonStatAggregation.run()"
   ]
  },
  {
   "cell_type": "code",
   "execution_count": 98,
   "id": "7b9f3c7b",
   "metadata": {},
   "outputs": [
    {
     "name": "stdout",
     "output_type": "stream",
     "text": [
      "1\t[64.03932584269663, 73.64044943820225, 68.57865168539325, 67.84831460674157, 66.71910112359551, 70.7752808988764, 411.6011235955056]\n",
      "2\t[70.91428571428571, 68.76190476190476, 70.16190476190476, 65.08571428571429, 72.94285714285714, 61.86666666666667, 409.73333333333335]\n",
      "3\t[65.3913043478261, 72.46376811594203, 68.64492753623189, 67.2536231884058, 66.23188405797102, 62.13768115942029, 402.1231884057971]\n",
      "4\t[79.05185185185185, 85.32592592592593, 83.08888888888889, 82.02962962962962, 82.5111111111111, 77.05925925925926, 489.06666666666666]\n",
      "5\t[72.26712328767124, 84.57534246575342, 73.26027397260275, 72.17808219178082, 68.70547945205479, 67.71232876712328, 438.6986301369863]\n",
      "6\t[71.74603174603175, 79.0, 84.38095238095238, 69.96825396825396, 76.12698412698413, 63.714285714285715, 444.93650793650795]\n",
      "7\t[76.91089108910892, 88.5940594059406, 85.02970297029702, 81.87128712871286, 80.73267326732673, 70.61386138613861, 483.7524752475247]\n",
      "8\t[74.62244897959184, 83.54081632653062, 77.0204081632653, 73.3061224489796, 73.1938775510204, 71.88775510204081, 453.57142857142856]\n"
     ]
    },
    {
     "name": "stderr",
     "output_type": "stream",
     "text": [
      "No configs found; falling back on auto-configuration\n",
      "No configs specified for inline runner\n",
      "Creating temp directory C:\\Users\\dylan\\AppData\\Local\\Temp\\pokemon-stat-aggregation.dylan.20241209.190220.079723\n",
      "Running step 1 of 1...\n",
      "job output is in C:\\Users\\dylan\\AppData\\Local\\Temp\\pokemon-stat-aggregation.dylan.20241209.190220.079723\\output\n",
      "Streaming final output from C:\\Users\\dylan\\AppData\\Local\\Temp\\pokemon-stat-aggregation.dylan.20241209.190220.079723\\output...\n",
      "Removing temp directory C:\\Users\\dylan\\AppData\\Local\\Temp\\pokemon-stat-aggregation.dylan.20241209.190220.079723...\n"
     ]
    }
   ],
   "source": [
    "!python pokemon-stat-aggregation.py ./Intermediate_data/job1_output.txt"
   ]
  }
 ],
 "metadata": {
  "kernelspec": {
   "display_name": "Python 3",
   "language": "python",
   "name": "python3"
  },
  "language_info": {
   "codemirror_mode": {
    "name": "ipython",
    "version": 3
   },
   "file_extension": ".py",
   "mimetype": "text/x-python",
   "name": "python",
   "nbconvert_exporter": "python",
   "pygments_lexer": "ipython3",
   "version": "3.12.8"
  }
 },
 "nbformat": 4,
 "nbformat_minor": 5
}
