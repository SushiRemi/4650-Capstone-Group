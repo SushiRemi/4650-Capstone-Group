{
 "cells": [
  {
   "cell_type": "code",
   "execution_count": 2,
   "id": "c180edb7-0746-4ba5-9927-201d0f867b2b",
   "metadata": {},
   "outputs": [],
   "source": [
    "%qtconsole"
   ]
  },
  {
   "cell_type": "code",
   "execution_count": 240,
   "id": "665a239d-34b1-455c-b0da-45a2f300334a",
   "metadata": {},
   "outputs": [
    {
     "name": "stdout",
     "output_type": "stream",
     "text": [
      "Overwriting pokemon-stat-comparison.py\n"
     ]
    }
   ],
   "source": [
    "%%file pokemon-stat-comparison.py\n",
    "from mrjob.job import MRJob\n",
    "\n",
    "class PokemonStatMapping(MRJob):\n",
    "    \n",
    "    ##splits file by line\n",
    "    def mapper(self, _, line):\n",
    "        thelist = line.split(\"/n\")\n",
    "        for x in thelist:\n",
    "            yield x, 1\n",
    "\n",
    "    ##reduces data to just id/name and stat values.\n",
    "    def reducer(self, key, values):\n",
    "        pkmnCount = 0\n",
    "        totalHP = 0\n",
    "        totalAtt = 0\n",
    "        totalDef = 0\n",
    "        totalSAtt = 0\n",
    "        totalSDef = 0\n",
    "        totalSpd = 0\n",
    "        \n",
    "        pokemon = key.split(\",\")\n",
    "        pokemonID = pokemon[0] + \" - \" + pokemon[1]\n",
    "\n",
    "        lastIndex = len(pokemon) - 1\n",
    "        pokemonStats = pokemonStats = pokemon[lastIndex-5] + \",\" + pokemon[lastIndex-4] + \",\" + pokemon[lastIndex-3] + \",\" + pokemon[lastIndex-2] + \",\" + pokemon[lastIndex-1] + \",\" + pokemon[lastIndex]\n",
    "\n",
    "        if(pokemon[0] != \"No\"): ##To ensure header is not counted\n",
    "            self.pkmnCount += 1\n",
    "            self.totalHP += int(pokemon[lastIndex-5])\n",
    "            self.totalAtt += int(pokemon[lastIndex-4])\n",
    "            self.totalDef += int(pokemon[lastIndex-3])\n",
    "            self.totalSAtt += int(pokemon[lastIndex-2])\n",
    "            self.totalSDef += int(pokemon[lastIndex-1])\n",
    "            self.totalSpd += int(pokemon[lastIndex])\n",
    "        \n",
    "        yield pokemonID, pokemonStats\n",
    "        ##yield key, sum(values)\n",
    "    print(pkmnCount)\n",
    "    \n",
    "    \"\"\"\n",
    "    avgHP = totalHP/pkmnCount\n",
    "    avgAtt = totalAtt/pkmnCount\n",
    "    avgDef = totalDef/pkmnCount\n",
    "    avgSAtt = totalSAtt/pkmnCount\n",
    "    avgSDef = totalSDef/pkmnCount\n",
    "    avgSpeed = totalSpd/pkmnCount\n",
    "\n",
    "    print(\"Average HP: \" + str(avgHP))\n",
    "    print(\"Average Attack: \" + str(avgAtt))\n",
    "    print(\"Average Defense: \" + str(avgDef))\n",
    "    print(\"Average Special Attack: \" + str(avgSAtt))\n",
    "    print(\"Average Special Defense: \" + str(avgSDef))\n",
    "    print(\"Average Speed: \" + str(avgSpd))\n",
    "    \"\"\"\n",
    "\n",
    "if __name__ == '__main__':\n",
    "    PokemonStatMapping.run()"
   ]
  },
  {
   "cell_type": "code",
   "execution_count": 242,
   "id": "4bda9635-ea42-4849-b219-192c7196f29f",
   "metadata": {},
   "outputs": [
    {
     "name": "stderr",
     "output_type": "stream",
     "text": [
      "Traceback (most recent call last):\n",
      "  File \"C:\\Users\\TheGe\\GIT\\Repositories\\4650-Capstone-Group\\pokemon-stat-comparison.py\", line 3, in <module>\n",
      "    class PokemonStatMapping(MRJob):\n",
      "  File \"C:\\Users\\TheGe\\GIT\\Repositories\\4650-Capstone-Group\\pokemon-stat-comparison.py\", line 37, in PokemonStatMapping\n",
      "    print(self.pkmnCount)\n",
      "          ^^^^\n",
      "NameError: name 'self' is not defined\n"
     ]
    }
   ],
   "source": [
    "!python pokemon-stat-comparison.py ./Pokemon-Datasets/pokemon_swsh.csv"
   ]
  },
  {
   "cell_type": "code",
   "execution_count": null,
   "id": "69eca8ee-500d-49fb-8ce0-b31a5916854c",
   "metadata": {},
   "outputs": [],
   "source": []
  },
  {
   "cell_type": "code",
   "execution_count": null,
   "id": "c5093c46-c208-4190-aee1-108694eba349",
   "metadata": {},
   "outputs": [],
   "source": []
  }
 ],
 "metadata": {
  "kernelspec": {
   "display_name": "Python 3 (ipykernel)",
   "language": "python",
   "name": "python3"
  },
  "language_info": {
   "codemirror_mode": {
    "name": "ipython",
    "version": 3
   },
   "file_extension": ".py",
   "mimetype": "text/x-python",
   "name": "python",
   "nbconvert_exporter": "python",
   "pygments_lexer": "ipython3",
   "version": "3.12.3"
  }
 },
 "nbformat": 4,
 "nbformat_minor": 5
}
