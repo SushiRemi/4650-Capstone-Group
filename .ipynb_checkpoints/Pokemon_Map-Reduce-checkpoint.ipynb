{
 "cells": [
  {
   "cell_type": "code",
   "execution_count": 28,
   "id": "665a239d-34b1-455c-b0da-45a2f300334a",
   "metadata": {},
   "outputs": [
    {
     "name": "stdout",
     "output_type": "stream",
     "text": [
      "Overwriting pokemon-stat-comparison.py\n"
     ]
    }
   ],
   "source": [
    "%%file pokemon-stat-comparison.py\n",
    "from mrjob.job import MRJob\n",
    "\n",
    "class WordFrequency(MRJob):\n",
    "\n",
    "    def mapper(self, _, line):\n",
    "        thelist = line.split()\n",
    "        for x in thelist:\n",
    "            print(x)"
   ]
  },
  {
   "cell_type": "code",
   "execution_count": 32,
   "id": "4bda9635-ea42-4849-b219-192c7196f29f",
   "metadata": {},
   "outputs": [],
   "source": [
    "!python pokemon-stat-comparison.py ./Pokemon-Datasets/pokemon_bw.csv"
   ]
  },
  {
   "cell_type": "code",
   "execution_count": null,
   "id": "c180edb7-0746-4ba5-9927-201d0f867b2b",
   "metadata": {},
   "outputs": [],
   "source": []
  }
 ],
 "metadata": {
  "kernelspec": {
   "display_name": "Python 3 (ipykernel)",
   "language": "python",
   "name": "python3"
  },
  "language_info": {
   "codemirror_mode": {
    "name": "ipython",
    "version": 3
   },
   "file_extension": ".py",
   "mimetype": "text/x-python",
   "name": "python",
   "nbconvert_exporter": "python",
   "pygments_lexer": "ipython3",
   "version": "3.12.3"
  }
 },
 "nbformat": 4,
 "nbformat_minor": 5
}
