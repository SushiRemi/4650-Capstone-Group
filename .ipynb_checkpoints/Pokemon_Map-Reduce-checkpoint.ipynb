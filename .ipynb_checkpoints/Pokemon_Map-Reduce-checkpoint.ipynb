{
 "cells": [
  {
   "cell_type": "code",
   "execution_count": 2,
   "id": "c180edb7-0746-4ba5-9927-201d0f867b2b",
   "metadata": {},
   "outputs": [],
   "source": [
    "%qtconsole"
   ]
  },
  {
   "cell_type": "code",
   "execution_count": 216,
   "id": "665a239d-34b1-455c-b0da-45a2f300334a",
   "metadata": {},
   "outputs": [
    {
     "name": "stdout",
     "output_type": "stream",
     "text": [
      "Overwriting pokemon-stat-comparison.py\n"
     ]
    }
   ],
   "source": [
    "%%file pokemon-stat-comparison.py\n",
    "from mrjob.job import MRJob\n",
    "\n",
    "class PokemonStatMapping(MRJob):\n",
    "    pkmnCount = 0\n",
    "    totalHP = 0\n",
    "    totalAtt = 0\n",
    "    totalDef = 0\n",
    "    totalSAtt = 0\n",
    "    totalSDef = 0\n",
    "    totalSpd = 0\n",
    "    \n",
    "    ##splits file by line\n",
    "    def mapper(self, _, line):\n",
    "        thelist = line.split(\"/n\")\n",
    "        for x in thelist:\n",
    "            yield x, 1\n",
    "\n",
    "    ##reduces data to just id/name and stat values.\n",
    "    def reducer(self, key, values):\n",
    "        pokemon = key.split(\",\")\n",
    "        pokemonID = pokemon[0] + \" - \" + pokemon[1]\n",
    "\n",
    "        lastIndex = len(pokemon) - 1\n",
    "        pokemonStats = pokemonStats = pokemon[lastIndex-5] + \",\" + pokemon[lastIndex-4] + \",\" + pokemon[lastIndex-3] + \",\" + pokemon[lastIndex-2] + \",\" + pokemon[lastIndex-1] + \",\" + pokemon[lastIndex]\n",
    "\n",
    "        if(pokemon[0] != \"No\"):\n",
    "            self.pkmnCount += 1\n",
    "            self.totalHP += int(pokemon[lastIndex-5])\n",
    "            self.totalAtt += int(pokemon[lastIndex-4])\n",
    "            self.totalDef += int(pokemon[lastIndex-3])\n",
    "            self.totalSAtt += int(pokemon[lastIndex-2])\n",
    "            self.totalSDef += int(pokemon[lastIndex-1])\n",
    "            self.totalSpd += int(pokemon[lastIndex])\n",
    "        \n",
    "        yield pokemonID, pokemonStats\n",
    "        ##yield key, sum(values)\n",
    "\n",
    "    \"\"\"\n",
    "    avgHP = totalHP/pkmnCount\n",
    "    avgAtt = totalAtt/pkmnCount\n",
    "    avgDef = totalDef/pkmnCount\n",
    "    avgSAtt = totalSAtt/pkmnCount\n",
    "    avgSDef = totalSDef/pkmnCount\n",
    "    avgSpeed = totalSpd/pkmnCount\n",
    "\n",
    "    print(\"Average HP: \" + str(avgHP))\n",
    "    print(\"Average Attack: \" + str(avgAtt))\n",
    "    print(\"Average Defense: \" + str(avgDef))\n",
    "    print(\"Average Special Attack: \" + str(avgSAtt))\n",
    "    print(\"Average Special Defense: \" + str(avgSDef))\n",
    "    print(\"Average Speed: \" + str(avgSpd))\n",
    "    \"\"\"\n",
    "\n",
    "if __name__ == '__main__':\n",
    "    PokemonStatMapping.run()"
   ]
  },
  {
   "cell_type": "code",
   "execution_count": 218,
   "id": "4bda9635-ea42-4849-b219-192c7196f29f",
   "metadata": {},
   "outputs": [
    {
     "name": "stderr",
     "output_type": "stream",
     "text": [
      "No configs found; falling back on auto-configuration\n",
      "No configs specified for inline runner\n",
      "Creating temp directory C:\\Users\\TheGe\\AppData\\Local\\Temp\\pokemon-stat-comparison.TheGe.20241204.194416.072023\n",
      "Running step 1 of 1...\n",
      "\n",
      "Error while reading from C:\\Users\\TheGe\\AppData\\Local\\Temp\\pokemon-stat-comparison.TheGe.20241204.194416.072023\\step\\000\\reducer\\00031\\input:\n",
      "\n",
      "Traceback (most recent call last):\n",
      "  File \"C:\\Users\\TheGe\\GIT\\Repositories\\4650-Capstone-Group\\pokemon-stat-comparison.py\", line 54, in <module>\n",
      "    PokemonStatMapping.run()\n",
      "  File \"C:\\Users\\TheGe\\anaconda3\\Lib\\site-packages\\mrjob\\job.py\", line 616, in run\n",
      "    cls().execute()\n",
      "  File \"C:\\Users\\TheGe\\anaconda3\\Lib\\site-packages\\mrjob\\job.py\", line 687, in execute\n",
      "    self.run_job()\n",
      "  File \"C:\\Users\\TheGe\\anaconda3\\Lib\\site-packages\\mrjob\\job.py\", line 636, in run_job\n",
      "    runner.run()\n",
      "  File \"C:\\Users\\TheGe\\anaconda3\\Lib\\site-packages\\mrjob\\runner.py\", line 503, in run\n",
      "    self._run()\n",
      "  File \"C:\\Users\\TheGe\\anaconda3\\Lib\\site-packages\\mrjob\\sim.py\", line 161, in _run\n",
      "    self._run_step(step, step_num)\n",
      "  File \"C:\\Users\\TheGe\\anaconda3\\Lib\\site-packages\\mrjob\\sim.py\", line 170, in _run_step\n",
      "    self._run_streaming_step(step, step_num)\n",
      "  File \"C:\\Users\\TheGe\\anaconda3\\Lib\\site-packages\\mrjob\\sim.py\", line 187, in _run_streaming_step\n",
      "    self._run_reducers(step_num, num_reducer_tasks)\n",
      "  File \"C:\\Users\\TheGe\\anaconda3\\Lib\\site-packages\\mrjob\\sim.py\", line 289, in _run_reducers\n",
      "    self._run_multiple(\n",
      "  File \"C:\\Users\\TheGe\\anaconda3\\Lib\\site-packages\\mrjob\\sim.py\", line 130, in _run_multiple\n",
      "    func()\n",
      "  File \"C:\\Users\\TheGe\\anaconda3\\Lib\\site-packages\\mrjob\\sim.py\", line 746, in _run_task\n",
      "    invoke_task(\n",
      "  File \"C:\\Users\\TheGe\\anaconda3\\Lib\\site-packages\\mrjob\\inline.py\", line 133, in invoke_task\n",
      "    task.execute()\n",
      "  File \"C:\\Users\\TheGe\\anaconda3\\Lib\\site-packages\\mrjob\\job.py\", line 681, in execute\n",
      "    self.run_reducer(self.options.step_num)\n",
      "  File \"C:\\Users\\TheGe\\anaconda3\\Lib\\site-packages\\mrjob\\job.py\", line 795, in run_reducer\n",
      "    for k, v in self.reduce_pairs(read_lines(), step_num=step_num):\n",
      "  File \"C:\\Users\\TheGe\\anaconda3\\Lib\\site-packages\\mrjob\\job.py\", line 866, in reduce_pairs\n",
      "    for k, v in self._combine_or_reduce_pairs(pairs, 'reducer', step_num):\n",
      "  File \"C:\\Users\\TheGe\\anaconda3\\Lib\\site-packages\\mrjob\\job.py\", line 889, in _combine_or_reduce_pairs\n",
      "    for k, v in task(key, values) or ():\n",
      "  File \"C:\\Users\\TheGe\\GIT\\Repositories\\4650-Capstone-Group\\pokemon-stat-comparison.py\", line 27, in reducer\n",
      "    self.totalHP += int(pokemon[lastIndex-5])\n",
      "                    ^^^^^^^^^^^^^^^^^^^^^^^^^\n",
      "ValueError: invalid literal for int() with base 10: 'HP'\n"
     ]
    }
   ],
   "source": [
    "!python pokemon-stat-comparison.py ./Pokemon-Datasets/pokemon_swsh.csv"
   ]
  },
  {
   "cell_type": "code",
   "execution_count": null,
   "id": "69eca8ee-500d-49fb-8ce0-b31a5916854c",
   "metadata": {},
   "outputs": [],
   "source": []
  },
  {
   "cell_type": "code",
   "execution_count": null,
   "id": "c5093c46-c208-4190-aee1-108694eba349",
   "metadata": {},
   "outputs": [],
   "source": []
  }
 ],
 "metadata": {
  "kernelspec": {
   "display_name": "Python 3 (ipykernel)",
   "language": "python",
   "name": "python3"
  },
  "language_info": {
   "codemirror_mode": {
    "name": "ipython",
    "version": 3
   },
   "file_extension": ".py",
   "mimetype": "text/x-python",
   "name": "python",
   "nbconvert_exporter": "python",
   "pygments_lexer": "ipython3",
   "version": "3.12.3"
  }
 },
 "nbformat": 4,
 "nbformat_minor": 5
}
