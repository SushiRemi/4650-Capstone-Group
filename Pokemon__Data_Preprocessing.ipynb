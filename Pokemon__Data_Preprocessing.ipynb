{
 "cells": [
  {
   "cell_type": "markdown",
   "metadata": {},
   "source": [
    "**Objective:**\n",
    "\n",
    "modify pokemon sv (Scarlet/Violet) national dex dataset to use \"/\" instead of \", \" when listing multiple signature moves or types"
   ]
  },
  {
   "cell_type": "code",
   "execution_count": 32,
   "metadata": {},
   "outputs": [],
   "source": [
    "%qtconsole"
   ]
  },
  {
   "cell_type": "code",
   "execution_count": 36,
   "metadata": {},
   "outputs": [
    {
     "name": "stdout",
     "output_type": "stream",
     "text": [
      "Overwriting PokemonDataPreprocessing.py\n"
     ]
    }
   ],
   "source": [
    "%%file PokemonDataPreprocessing.py\n",
    "\n",
    "import csv\n",
    "import argparse\n",
    "import re\n",
    "\n",
    "def replace_commas_in_quotes(input_file, output_file):\n",
    "    with open(input_file, 'r', newline='', encoding='utf-8') as infile, open(output_file, 'w', newline='', encoding='utf-8') as outfile:\n",
    "        reader = csv.reader(infile)\n",
    "        writer = csv.writer(outfile)\n",
    "\n",
    "        for row in reader:\n",
    "          new_row = []\n",
    "          for field in row:\n",
    "            if (', ' or ' ') in field:\n",
    "              new_field = re.sub(r'(?<!^), (?!$)', '/', field)\n",
    "              new_field = re.sub(r'(?<!^) (?!$)', '_', new_field)\n",
    "              new_row.append(new_field)\n",
    "            else:\n",
    "              new_row.append(field)\n",
    "          writer.writerow(new_row)\n",
    "\n",
    "        infile.close()\n",
    "        outfile.close()\n",
    "\n",
    "\n",
    "if __name__ == \"__main__\":\n",
    "    parser = argparse.ArgumentParser(description=\"Replace commas inside quoted fields in a CSV file.\")\n",
    "    parser.add_argument(\"input_file\", help=\"Path to the input CSV file\")\n",
    "    parser.add_argument(\"output_file\", help=\"Path to the output CSV file\")\n",
    "    args = parser.parse_args()\n",
    "\n",
    "    # Call the function with command-line arguments\n",
    "    replace_commas_in_quotes(args.input_file, args.output_file)\n"
   ]
  },
  {
   "cell_type": "code",
   "execution_count": 37,
   "metadata": {},
   "outputs": [],
   "source": [
    "!python pokemonDataPreprocessing.py Pokemon-Datasets/pokemon_swsh.csv POkemon-Datasets/PreProcessed-Datasets/pokemon_swsh_formatted.csv"
   ]
  }
 ],
 "metadata": {
  "kernelspec": {
   "display_name": "Python 3",
   "language": "python",
   "name": "python3"
  },
  "language_info": {
   "codemirror_mode": {
    "name": "ipython",
    "version": 3
   },
   "file_extension": ".py",
   "mimetype": "text/x-python",
   "name": "python",
   "nbconvert_exporter": "python",
   "pygments_lexer": "ipython3",
   "version": "3.12.8"
  }
 },
 "nbformat": 4,
 "nbformat_minor": 2
}
